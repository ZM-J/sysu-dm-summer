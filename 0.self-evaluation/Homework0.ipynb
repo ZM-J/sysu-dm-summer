{
 "cells": [
  {
   "cell_type": "code",
   "execution_count": 1,
   "metadata": {},
   "outputs": [
    {
     "ename": "NameError",
     "evalue": "name 'e' is not defined",
     "output_type": "error",
     "traceback": [
      "\u001b[1;31m---------------------------------------------------------------------------\u001b[0m",
      "\u001b[1;31mNameError\u001b[0m                                 Traceback (most recent call last)",
      "\u001b[1;32m<ipython-input-1-f3b2a5e23b91>\u001b[0m in \u001b[0;36m<module>\u001b[1;34m()\u001b[0m\n\u001b[1;32m----> 1\u001b[1;33m \u001b[0me\u001b[0m\u001b[1;33m^\u001b[0m\u001b[1;33m(\u001b[0m\u001b[0mix\u001b[0m\u001b[1;33m)\u001b[0m\u001b[1;33m\u001b[0m\u001b[0m\n\u001b[0m",
      "\u001b[1;31mNameError\u001b[0m: name 'e' is not defined"
     ]
    }
   ],
   "source": [
    "e^(ix)"
   ]
  },
  {
   "cell_type": "markdown",
   "metadata": {},
   "source": [
    "$$e^{ix}=\\cos x + i \\sin x$$"
   ]
  },
  {
   "cell_type": "code",
   "execution_count": 2,
   "metadata": {},
   "outputs": [
    {
     "data": {
      "text/plain": [
       "[10, 4, 4, 2, 3, 1, 8, 3, 4, 8]"
      ]
     },
     "execution_count": 2,
     "metadata": {},
     "output_type": "execute_result"
    }
   ],
   "source": [
    "import random\n",
    "\n",
    "n = 10\n",
    "data = [random.randint(1, 10) for _ in range(n)]\n",
    "data"
   ]
  },
  {
   "cell_type": "code",
   "execution_count": 3,
   "metadata": {},
   "outputs": [
    {
     "data": {
      "text/plain": [
       "[32, 95, 42, 93, 73, 100, 44, 94, 23, 98]"
      ]
     },
     "execution_count": 3,
     "metadata": {},
     "output_type": "execute_result"
    }
   ],
   "source": [
    "import random\n",
    "\n",
    "n = 10\n",
    "data = [random.randint(1, 100) for _ in range(n)]\n",
    "data"
   ]
  },
  {
   "cell_type": "code",
   "execution_count": 45,
   "metadata": {
    "collapsed": true
   },
   "outputs": [],
   "source": [
    "# Ex. 1\n",
    "\n",
    "def nsqrt(x): # do not change the heading of the function    \n",
    "    l = 0\n",
    "    r = x\n",
    "    while (r - l > 1):\n",
    "        mid = (l+r) >> 1\n",
    "        if (mid*mid > x):\n",
    "            r = mid - 1\n",
    "        else:\n",
    "            l = mid\n",
    "    if (r*r <= x):\n",
    "        return r\n",
    "    else:\n",
    "        return l\n"
   ]
  },
  {
   "cell_type": "code",
   "execution_count": 52,
   "metadata": {},
   "outputs": [
    {
     "data": {
      "image/png": "[encoded data removed]",
      "text/plain": [
       "<matplotlib.figure.Figure at 0x39c1470>"
      ]
     },
     "metadata": {},
     "output_type": "display_data"
    }
   ],
   "source": [
    "# Ex. 2\n",
    "\n",
    "import matplotlib\n",
    "import numpy as np\n",
    "import matplotlib.pyplot as plt\n",
    "%matplotlib inline\n",
    "\n",
    "import math\n",
    "\n",
    "def f(x):\n",
    "    return x * math.log(x) - 16.0\n",
    "\n",
    "xvals = np.arange(0.01, 10, 0.01)        \n",
    "yvals = np.array([f(x) for x in xvals])\n",
    "plt.plot(xvals, yvals) \n",
    "plt.plot(xvals, 0*xvals)\n",
    "plt.show()"
   ]
  },
  {
   "cell_type": "code",
   "execution_count": 5,
   "metadata": {},
   "outputs": [],
   "source": [
    "def fprime(x):\n",
    "    return 1.0 + math.log(x)"
   ]
  },
  {
   "cell_type": "code",
   "execution_count": 15,
   "metadata": {},
   "outputs": [],
   "source": [
    "'''\n",
    "x_0: initial guess\n",
    "EPSILON: stop when abs(x - x_new) < EPSILON\n",
    "MAX_ITER: maximum number of iterations\n",
    "\n",
    "NOTE: you must use the default values of the above parameters, do not change them\n",
    "'''\n",
    "def find_root(f, fprime, x_0=1.0, EPSILON = 1E-7, MAX_ITER = 1000): # do not change the heading of the function\n",
    "    x_i = x_0\n",
    "    for i in range(0, MAX_ITER):\n",
    "        x_iA1 = x_i - (f(x_i)) / (fprime(x_i))\n",
    "        print('i = ',i,'\\t',x_i,' => ',x_iA1)\n",
    "        if (abs(x_i-x_iA1) < EPSILON):\n",
    "            break\n",
    "        x_i = x_iA1\n",
    "    return x_iA1"
   ]
  },
  {
   "cell_type": "code",
   "execution_count": 16,
   "metadata": {},
   "outputs": [
    {
     "name": "stdout",
     "output_type": "stream",
     "text": [
      "i =  0 \t 1.0  =>  17.0\n",
      "i =  1 \t 17.0  =>  8.608965126131011\n",
      "i =  2 \t 8.608965126131011  =>  7.805421527761377\n",
      "i =  3 \t 7.805421527761377  =>  7.7927448262150705\n",
      "i =  4 \t 7.7927448262150705  =>  7.792741452820569\n",
      "i =  5 \t 7.792741452820569  =>  7.792741452820329\n",
      "7.792741452820329\n",
      "0.0\n"
     ]
    }
   ],
   "source": [
    "x = find_root(f, fprime)\n",
    "print(x)\n",
    "print(f(x))"
   ]
  },
  {
   "cell_type": "code",
   "execution_count": 79,
   "metadata": {},
   "outputs": [],
   "source": [
    "# Ex. 3\n",
    "import copy # Deep copy of object is compulsory\n",
    "import pprint # Show the result like a matrix\n",
    "\n",
    "def comb(n, k):\n",
    "    ret = []\n",
    "    a = [0] * k\n",
    "    def onec(nown, nowk):\n",
    "        if (nowk >= k):\n",
    "            ret.append(copy.copy(a))\n",
    "            return\n",
    "        if (nown > n):\n",
    "            return\n",
    "        for i in range(nown, n+1):\n",
    "            a[nowk] = i\n",
    "            onec(i+1, nowk+1)\n",
    "    onec(1, 0)\n",
    "    pprint.pprint(ret)"
   ]
  },
  {
   "cell_type": "code",
   "execution_count": 82,
   "metadata": {},
   "outputs": [
    {
     "name": "stdout",
     "output_type": "stream",
     "text": [
      "[[1, 2, 3, 4, 5, 6],\n",
      " [1, 2, 3, 4, 5, 7],\n",
      " [1, 2, 3, 4, 5, 8],\n",
      " [1, 2, 3, 4, 6, 7],\n",
      " [1, 2, 3, 4, 6, 8],\n",
      " [1, 2, 3, 4, 7, 8],\n",
      " [1, 2, 3, 5, 6, 7],\n",
      " [1, 2, 3, 5, 6, 8],\n",
      " [1, 2, 3, 5, 7, 8],\n",
      " [1, 2, 3, 6, 7, 8],\n",
      " [1, 2, 4, 5, 6, 7],\n",
      " [1, 2, 4, 5, 6, 8],\n",
      " [1, 2, 4, 5, 7, 8],\n",
      " [1, 2, 4, 6, 7, 8],\n",
      " [1, 2, 5, 6, 7, 8],\n",
      " [1, 3, 4, 5, 6, 7],\n",
      " [1, 3, 4, 5, 6, 8],\n",
      " [1, 3, 4, 5, 7, 8],\n",
      " [1, 3, 4, 6, 7, 8],\n",
      " [1, 3, 5, 6, 7, 8],\n",
      " [1, 4, 5, 6, 7, 8],\n",
      " [2, 3, 4, 5, 6, 7],\n",
      " [2, 3, 4, 5, 6, 8],\n",
      " [2, 3, 4, 5, 7, 8],\n",
      " [2, 3, 4, 6, 7, 8],\n",
      " [2, 3, 5, 6, 7, 8],\n",
      " [2, 4, 5, 6, 7, 8],\n",
      " [3, 4, 5, 6, 7, 8]]\n"
     ]
    }
   ],
   "source": [
    "comb(8, 6)"
   ]
  },
  {
   "cell_type": "code",
   "execution_count": 77,
   "metadata": {},
   "outputs": [
    {
     "data": {
      "text/plain": [
       "5.6276906871315475"
      ]
     },
     "execution_count": 77,
     "metadata": {},
     "output_type": "execute_result"
    }
   ],
   "source": [
    "import timeit\n",
    "t1 = timeit.Timer('import copy\\nx = range(12345678)\\ny = copy.copy(x)')  \n",
    "t1.timeit() "
   ]
  },
  {
   "cell_type": "code",
   "execution_count": 78,
   "metadata": {},
   "outputs": [
    {
     "data": {
      "text/plain": [
       "48.22645288785702"
      ]
     },
     "execution_count": 78,
     "metadata": {},
     "output_type": "execute_result"
    }
   ],
   "source": [
    "import timeit\n",
    "t1 = timeit.Timer('import copy\\nx = range(12345678)\\ny = copy.deepcopy(x)')  \n",
    "t1.timeit() "
   ]
  },
  {
   "cell_type": "code",
   "execution_count": null,
   "metadata": {
    "collapsed": true
   },
   "outputs": [],
   "source": []
  }
 ],
 "metadata": {
  "kernelspec": {
   "display_name": "Python 3",
   "language": "python",
   "name": "python3"
  },
  "language_info": {
   "codemirror_mode": {
    "name": "ipython",
    "version": 3
   },
   "file_extension": ".py",
   "mimetype": "text/x-python",
   "name": "python",
   "nbconvert_exporter": "python",
   "pygments_lexer": "ipython3",
   "version": "3.6.1"
  }
 },
 "nbformat": 4,
 "nbformat_minor": 2
}
